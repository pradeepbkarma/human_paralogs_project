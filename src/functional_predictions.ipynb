{
 "cells": [
  {
   "cell_type": "markdown",
   "metadata": {},
   "source": [
    "First make a directory that has all the pdb structures, to compute multiple structure alignment using foldmason\n",
    "\n",
    "Run the following bash script in linux shell \n",
    "\n",
    "module load bzip \n",
    "../tools/foldmason/bin/foldmason easy-msa ../data/foldSDH_20_pdbs/ ../data/foldmason_out/SDH_cluster_msa ../data/foldmason_out/foldmason_tmp --report-mode 1"
   ]
  },
  {
   "cell_type": "code",
   "execution_count": 1,
   "metadata": {},
   "outputs": [
    {
     "name": "stdout",
     "output_type": "stream",
     "text": [
      "        id msa_285       msa_594 msa_657                           seq_pos\n",
      "0   Q9HB40       S             D       H                   [167, 371, 431]\n",
      "1   Q9NQE7       S         D_570       H                   [185, 405, 472]\n",
      "2   P10619       S             D       H                   [178, 400, 457]\n",
      "3   Q9H3G5       S             D       H                   [204, 388, 448]\n",
      "4   Q9BV23       S  [V, I, S, E]       H  [148, [251, 250, 252, 253], 306]\n",
      "5   Q9UHL4       S  [P, W, R, P]       H  [162, [390, 389, 391, 392], 443]\n",
      "6   P42785       S  [P, R, R, P]       H  [179, [402, 401, 403, 404], 455]\n",
      "7   Q8IUS5   S_277        [D, K]  [D, K]     [161, [362, 361], [362, 361]]\n",
      "8   Q9H6B9   S_277        [D, L]  [D, L]     [165, [360, 359], [360, 359]]\n",
      "9   Q8TB40       S        [D, V]  [D, V]     [146, [342, 341], [342, 341]]\n",
      "10  Q8WTS1   S_295        [D, V]  [D, V]     [163, [349, 348], [349, 348]]\n",
      "11  Q5EB52   S_283        [F, S]  [F, S]     [145, [335, 334], [335, 334]]\n",
      "12  Q5VXJ0       S        [N, Q]  [N, Q]     [172, [399, 398], [399, 398]]\n",
      "13  Q5VYY2       S        [L, V]  [L, V]     [186, [423, 422], [423, 422]]\n",
      "14  P07098       S        [K, K]  [K, K]     [172, [398, 397], [398, 397]]\n",
      "15  P38571       S        [Q, Y]  [Q, Y]     [174, [399, 398], [399, 398]]\n",
      "16  Q5VXI9       S        [S, Y]  [S, Y]     [173, [398, 397], [398, 397]]\n",
      "17  Q5W064       S        [L, N]  [L, N]     [141, [366, 365], [366, 365]]\n",
      "18  P07099   S_288        [Q, R]  [Q, R]     [229, [455, 454], [455, 454]]\n",
      "19  Q92597   S_278         D_605  [C, S]            [133, 373, [394, 393]]\n"
     ]
    }
   ],
   "source": [
    "from active_site_predictions import get_active_site_predictions\n",
    "'''\n",
    "inputs --> ref_seq name,\n",
    "       --> msa_file_path,\n",
    "       --> ref_pos_list, \n",
    "       --> ref_res_list\n",
    "'''\n",
    "# \n",
    "msa_file = \"../data/foldmason_out/SDH_cluster_msa_aa.fa\"\n",
    "\n",
    "imputed_df = get_active_site_predictions('Q9H3G5', msa_file, [204, 388, 448], ['S', 'D', 'H'])\n",
    "print(imputed_df)"
   ]
  }
 ],
 "metadata": {
  "kernelspec": {
   "display_name": "paralogs_project",
   "language": "python",
   "name": "python3"
  },
  "language_info": {
   "codemirror_mode": {
    "name": "ipython",
    "version": 3
   },
   "file_extension": ".py",
   "mimetype": "text/x-python",
   "name": "python",
   "nbconvert_exporter": "python",
   "pygments_lexer": "ipython3",
   "version": "3.9.13"
  }
 },
 "nbformat": 4,
 "nbformat_minor": 2
}
