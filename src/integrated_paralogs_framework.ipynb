{
 "cells": [
  {
   "cell_type": "code",
   "execution_count": 1,
   "metadata": {},
   "outputs": [],
   "source": [
    "# load all the packages and functions \n",
    "import pandas as pd\n",
    "import os\n",
    "from get_integrated_homologs import get_required_df\n",
    "from process_tmalign_data import get_tm_aln_df\n",
    "from process_data_tmaln_duplicates import ProcessData"
   ]
  },
  {
   "cell_type": "markdown",
   "metadata": {},
   "source": [
    "'''\n",
    "1. get_required_df:\n",
    "takes two arguments:  \n",
    "    1. reference list \n",
    "    2. all paralogs from integrated homology search found in data\n",
    "Outputs \n",
    "\n",
    "2. get_tm_aln_df \n",
    "    Input: tm_align file path \n",
    "\n",
    "    Output:TM align information as dataframe \n",
    "\n",
    "3. ProcessData\n",
    "    Input: integrated homolog dataframe from 1, tm-aligned dataframe from 2, and reference list from 1\n",
    "    Output: merge_data --> merges tm-align information to the original data,\n",
    "        filter_duplicated_pairs --> removes the duplicates treating the (A,B) and (B, A) pairs identitical \n",
    "        filter_data --> filters pairs with tm-scores < 0.5 bidirectionally \n",
    "        get_novel_list --> gets novel paralogs list\n",
    "\n",
    "'''"
   ]
  },
  {
   "cell_type": "code",
   "execution_count": 2,
   "metadata": {},
   "outputs": [
    {
     "name": "stdout",
     "output_type": "stream",
     "text": [
      "111\n",
      "  reference      target   methods\n",
      "0    P01033  A0A1W2PP97  foldseek\n",
      "1    P01033      O14603  foldseek\n",
      "2    P01033      O95972  foldseek\n",
      "3    P01033      P01031  foldseek\n",
      "4    P01033      P02753  foldseek\n"
     ]
    }
   ],
   "source": [
    "all_paralogs_data = pd.read_csv(\"../data/integrated_paralogs_methods.tsv\", sep=\"\\t\")\n",
    "\n",
    "# using paralogs for Tissue inhibitors of metalloproteinases (TIMPs: 1-4)\n",
    "ref_list = ['P01033', 'P16035', 'P35625',  'Q99727']\n",
    "TIMPs_homologs = get_required_df(ref_list, all_paralogs_data)\n",
    "print(len(TIMPs_homologs))\n",
    "print(TIMPs_homologs.head())\n"
   ]
  },
  {
   "cell_type": "code",
   "execution_count": 3,
   "metadata": {},
   "outputs": [],
   "source": [
    "def get_qt_pairs(paralogs_df, save_dir, file_name):\n",
    "    os.makedirs(save_dir, exist_ok=True)\n",
    "    qt_df = paralogs_df[['reference', 'target']]\n",
    "    filename = f'{file_name}.csv'\n",
    "    qt_df.to_csv(os.path.join(save_dir, f\"{filename}\"), sep=\"\\t\", index=False)\n",
    "    print(f'query-target pairs saved as {filename}')\n",
    "    return filename\n",
    "    "
   ]
  },
  {
   "cell_type": "code",
   "execution_count": 13,
   "metadata": {},
   "outputs": [
    {
     "name": "stdout",
     "output_type": "stream",
     "text": [
      "query-target pairs saved as TIMPs.csv\n",
      "TIMPs.csv\n"
     ]
    }
   ],
   "source": [
    "TIMPS_qt_pairs = get_qt_pairs(TIMPs_homologs, \"../data/\", \"TIMPs\")\n",
    "print(TIMPS_qt_pairs)"
   ]
  },
  {
   "cell_type": "markdown",
   "metadata": {},
   "source": [
    "module load tmalign/20220412-xq6w5va\n",
    "\n",
    "while IFS=$'\\t' read -r query target; do\n",
    "    echo \"Running TM-align for: $query vs $target\"\n",
    "    TMalign \"../../../data/HS_AF_PDB/${query}.pdb\" \"../../../data/HS_AF_PDB/${target}.pdb\" >> ../data/TIMPs_tmaln.txt\n",
    "    echo -e \"\\\\n\" >> ../data/TIMPs_tmaln.txt\n",
    "done < \"../data/TIMPs.csv\""
   ]
  },
  {
   "cell_type": "code",
   "execution_count": 3,
   "metadata": {},
   "outputs": [],
   "source": [
    "tm_data = get_tm_aln_df(\"../data/TIMPs_tmaln.txt\")"
   ]
  },
  {
   "cell_type": "code",
   "execution_count": null,
   "metadata": {},
   "outputs": [],
   "source": [
    "proc = ProcessData(TIMPs_homologs, tm_data, ref_list)\n",
    "tm_scores_merged = proc.merge_data()\n",
    "filtered_data = proc.filter_data()\n",
    "novel_paralogs = proc.get_novel_list()\n",
    "print(len(novel_paralogs))\n",
    "\n",
    "# print(filtered_data)"
   ]
  },
  {
   "cell_type": "code",
   "execution_count": 6,
   "metadata": {},
   "outputs": [
    {
     "name": "stdout",
     "output_type": "stream",
     "text": [
      "['Q9BQI4', 'P62857', 'Q86WV5']\n"
     ]
    }
   ],
   "source": [
    "print(novel_paralogs)"
   ]
  },
  {
   "cell_type": "markdown",
   "metadata": {},
   "source": [
    "Get the novel discoveries for each protein family and see the distribution by \n",
    "different methods.\n",
    "--> reference data \n",
    "--> integrated homologs + tm_align data \n",
    "--> filter by reference data \n",
    "--> filter the data by bidirectional TM-scores \n",
    "--> get the novel paralogs set \n"
   ]
  },
  {
   "cell_type": "code",
   "execution_count": 3,
   "metadata": {},
   "outputs": [
    {
     "name": "stdout",
     "output_type": "stream",
     "text": [
      "Total novel paralogs pair is: 162\n",
      "Total novel paralogs is 38\n",
      "{'prost': 133, 'mmseqs2': 85, 'foldseek': 132, 'blast': 132}\n"
     ]
    }
   ],
   "source": [
    "from get_novel_distribution_methods import get_novel_distribution\n",
    "# retuns the distribution of novel paralogs by methods \n",
    "\n",
    "ref_list = \"../data/TF_1373_genes.txt\"\n",
    "data = \"../data/TFs_paralogs_tmaln_final.tsv\"\n",
    "\n",
    "methods_dist = get_novel_distribution(ref_list, data)\n",
    "print(methods_dist)"
   ]
  }
 ],
 "metadata": {
  "kernelspec": {
   "display_name": "paralogs_project",
   "language": "python",
   "name": "python3"
  },
  "language_info": {
   "name": "python",
   "version": "3.9.13"
  }
 },
 "nbformat": 4,
 "nbformat_minor": 2
}
